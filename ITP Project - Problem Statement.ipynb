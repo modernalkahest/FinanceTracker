{
 "cells": [
  {
   "cell_type": "markdown",
   "metadata": {},
   "source": [
    "# ITP Mini Project "
   ]
  },
  {
   "cell_type": "markdown",
   "metadata": {},
   "source": [
    "We all have to maintain our own personal expenses in day to day life. It’s very normal for us to lose track of them and end up going out of budget. We require a way to keep ourself in within budget.\n",
    "\n",
    "This is where we can explore our skills in Python to come up with a solution. We can create a python program that allows you to keep track of the finance expenses.\n",
    "\n",
    "With the Finance Tracker, users can easily set a budget and add up their expenses to make better financial decisions. Anything beyond the budget will not be added up.\n",
    "\n",
    "**Objective:**To Estimate the Personal Financial Budget at the End of the Month."
   ]
  },
  {
   "cell_type": "code",
   "execution_count": 1,
   "metadata": {},
   "outputs": [
    {
     "name": "stdout",
     "output_type": "stream",
     "text": [
      "Remaining Budget in rupees: 19000.0\n",
      "Amount spent in rupees: 1000.0\n",
      "Amount saved in rupees: 15000.0\n",
      "Are the expenses for the month done? :\n",
      "Yes\n",
      "No\n",
      "Please enter your choice: Yes\n"
     ]
    }
   ],
   "source": [
    "# Write the Code here:-\n",
    "from IPython.display import display, clear_output\n",
    "clear_output()\n",
    "Budget = 0.0\n",
    "Spending = 0.0\n",
    "Saving = 0.0\n",
    "    \n",
    "while(Budget<=0):\n",
    "    Budget = float(input(\"Enter the Estimated Budget for this month in Rupees:\"))\n",
    "    temp = int(Budget*100)\n",
    "    Budget = temp/100\n",
    "\n",
    "    if(Budget<=0):\n",
    "        clear_output()\n",
    "        print(f\"Current budget is Rupees {Budget}. The Budget needs to be higher for any further expenses\")\n",
    "\n",
    "    \n",
    "MonthTracker = 0\n",
    "while(MonthTracker == 0 and Budget >=0):\n",
    "    if(Budget<=0):\n",
    "        clear_output()\n",
    "        print(f\"Current budget is Rupees {Budget}, the Budget needs to be higher for any further expenses\")\n",
    "        break\n",
    "        \n",
    "    else:\n",
    "        clear_output()\n",
    "        choice = 3\n",
    "        while (choice != 1 and choice != 2):\n",
    "            print(\"How would you like to proceed?\")\n",
    "            print(\"1. Spend\")\n",
    "            print(\"2. Save\")\n",
    "            choice = int(input(\"Enter the serial number of your choice: \"))\n",
    "            \n",
    "            if(choice == 1):\n",
    "                bill = float(input(\"Please enter the amount spent in Rupees: \"))\n",
    "                freq = int(input(\"Please enter how frequent this expense is: \"))\n",
    "                if (Budget > (freq * bill)):\n",
    "                    Spending += freq * bill\n",
    "                    Budget -= (freq * bill)\n",
    "                \n",
    "                else:\n",
    "                    print (f\"Remaining Budget in rupees: {Budget}\")\n",
    "                    print (f\"Amount spent in rupees: {Spending}\")\n",
    "                    print (f\"Amount saved in rupees: {Saving}\")\n",
    "                    continue\n",
    "            \n",
    "            elif(choice == 2):\n",
    "                bill = float(input(\"Please enter the amount saved in Rupees: \"))\n",
    "                freq = int(input(\"Please enter how frequent this expense is: \"))\n",
    "                Saving += freq * bill\n",
    "                Budget += (freq * bill)\n",
    "            \n",
    "            else:\n",
    "                clear_output()\n",
    "                print(\"Please make sure to enter only the serial number of the choice only.\")\n",
    "        \n",
    "        clear_output()\n",
    "        print (f\"Remaining Budget in rupees: {Budget}\")\n",
    "        print (f\"Amount spent in rupees: {Spending}\")\n",
    "        print (f\"Amount saved in rupees: {Saving}\")\n",
    "        \n",
    "        choice2 = \"\"\n",
    "        while(choice2 != \"Yes\" and choice2 != \"No\"):\n",
    "            print(\"Are the expenses for the month done? :\")\n",
    "            print(\"Yes\")\n",
    "            print(\"No\")\n",
    "            choice2 = input(\"Please enter your choice: \")\n",
    "                \n",
    "            if (choice2 == \"Yes\"):\n",
    "                MonthTracker = 1\n",
    "                    \n",
    "            elif (choice2 == \"No\"):\n",
    "                MonthTracker = 0\n",
    "                \n",
    "            else:\n",
    "                clear_output()\n",
    "                MonthTracker = 0\n",
    "                print(\"Please enter a valid response\")"
   ]
  },
  {
   "cell_type": "code",
   "execution_count": null,
   "metadata": {},
   "outputs": [],
   "source": []
  }
 ],
 "metadata": {
  "kernelspec": {
   "display_name": "Python 3 (ipykernel)",
   "language": "python",
   "name": "python3"
  },
  "language_info": {
   "codemirror_mode": {
    "name": "ipython",
    "version": 3
   },
   "file_extension": ".py",
   "mimetype": "text/x-python",
   "name": "python",
   "nbconvert_exporter": "python",
   "pygments_lexer": "ipython3",
   "version": "3.9.12"
  }
 },
 "nbformat": 4,
 "nbformat_minor": 2
}
